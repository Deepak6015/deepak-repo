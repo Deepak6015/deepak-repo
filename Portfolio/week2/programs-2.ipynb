{
 "cells": [
  {
   "cell_type": "code",
   "execution_count": 1,
   "metadata": {},
   "outputs": [
    {
     "name": "stdout",
     "output_type": "stream",
     "text": [
      "Hello, what is your name? deepak\n",
      "Hello, deepak. Good to meet you!\n"
     ]
    }
   ],
   "source": [
    "# Greeting program with user input\n",
    "user_name = input(\"Hello, what is your name? \")\n",
    "print(\"Hello, \" + user_name + \". Good to meet you!\")\n"
   ]
  },
  {
   "cell_type": "code",
   "execution_count": 2,
   "metadata": {},
   "outputs": [
    {
     "name": "stdout",
     "output_type": "stream",
     "text": [
      "Enter a temperature in Celsius: 36\n",
      "36.0C is equivalent to 96.8F.\n"
     ]
    }
   ],
   "source": [
    "# Celsius to Fahrenheit converter\n",
    "celsius_temp = float(input(\"Enter a temperature in Celsius: \"))\n",
    "fahrenheit_temp = (celsius_temp * 9/5) + 32\n",
    "print(f\"{celsius_temp}C is equivalent to {fahrenheit_temp}F.\")\n"
   ]
  },
  {
   "cell_type": "code",
   "execution_count": 3,
   "metadata": {},
   "outputs": [
    {
     "name": "stdout",
     "output_type": "stream",
     "text": [
      "How many students? 133\n",
      "Required group size? 22\n",
      "There will be 6 groups with 1 students left over.\n"
     ]
    }
   ],
   "source": [
    "# Lab group division program\n",
    "num_students = int(input(\"How many students? \"))\n",
    "group_size = int(input(\"Required group size? \"))\n",
    "\n",
    "num_groups = num_students // group_size\n",
    "students_leftover = num_students % group_size\n",
    "\n",
    "if students_leftover == 0:\n",
    "    print(f\"There will be {num_groups} groups with no students left over.\")\n",
    "else:\n",
    "    if num_groups == 1:\n",
    "        print(f\"There will be {num_groups} group with {students_leftover} student left over.\")\n",
    "    else:\n",
    "        print(f\"There will be {num_groups} groups with {students_leftover} students left over.\")\n",
    "\n"
   ]
  },
  {
   "cell_type": "code",
   "execution_count": 4,
   "metadata": {},
   "outputs": [
    {
     "name": "stdout",
     "output_type": "stream",
     "text": [
      "Enter the number of sweets: 300\n",
      "Enter the number of pupils: 50\n",
      "Each pupil will get 6 sweets, and there will be 0 sweets left over.\n"
     ]
    }
   ],
   "source": [
    "# Sweets distribution program\n",
    "num_sweets = int(input(\"Enter the number of sweets: \"))\n",
    "num_pupils = int(input(\"Enter the number of pupils: \"))\n",
    "\n",
    "sweets_per_pupil = num_sweets // num_pupils\n",
    "leftover_sweets = num_sweets % num_pupils\n",
    "\n",
    "print(f\"Each pupil will get {sweets_per_pupil} sweets, and there will be {leftover_sweets} sweets left over.\")\n"
   ]
  }
 ],
 "metadata": {
  "kernelspec": {
   "display_name": "Python 3 (ipykernel)",
   "language": "python",
   "name": "python3"
  },
  "language_info": {
   "codemirror_mode": {
    "name": "ipython",
    "version": 3
   },
   "file_extension": ".py",
   "mimetype": "text/x-python",
   "name": "python",
   "nbconvert_exporter": "python",
   "pygments_lexer": "ipython3",
   "version": "3.9.13"
  }
 },
 "nbformat": 4,
 "nbformat_minor": 2
}
